{
 "cells": [
  {
   "cell_type": "code",
   "execution_count": 23,
   "metadata": {},
   "outputs": [],
   "source": [
    "import insightface\n",
    "import urllib\n",
    "import urllib.request\n",
    "import cv2\n",
    "import numpy as np\n",
    "\n",
    "def url_to_image(url):\n",
    "    resp = urllib.request.urlopen(url)\n",
    "    image = np.asarray(bytearray(resp.read()), dtype=\"uint8\")\n",
    "    image = cv2.imdecode(image, cv2.IMREAD_COLOR)\n",
    "    return image"
   ]
  },
  {
   "cell_type": "code",
   "execution_count": 83,
   "metadata": {},
   "outputs": [],
   "source": [
    "url = 'https://dujye7n3e5wjl.cloudfront.net/photographs/1080-tall/time-100-influential-photos-ellen-degeneres-oscars-selfie-100.jpg'\n",
    "img = url_to_image(url)"
   ]
  },
  {
   "cell_type": "code",
   "execution_count": 3,
   "metadata": {},
   "outputs": [
    {
     "data": {
      "text/plain": [
       "['arcface_mfn_v1',\n",
       " 'arcface_r100_v1',\n",
       " 'genderage_v1',\n",
       " 'retinaface_mnet025_v1',\n",
       " 'retinaface_mnet025_v2',\n",
       " 'retinaface_r50_v1']"
      ]
     },
     "execution_count": 3,
     "metadata": {},
     "output_type": "execute_result"
    }
   ],
   "source": [
    "insightface.model_zoo.get_model_list()"
   ]
  },
  {
   "cell_type": "code",
   "execution_count": 75,
   "metadata": {},
   "outputs": [],
   "source": [
    "model = insightface.app.FaceAnalysis(rec_name = 'arcface_r100_v1', det_name = 'retinaface_mnet025_v2')"
   ]
  },
  {
   "cell_type": "code",
   "execution_count": 77,
   "metadata": {},
   "outputs": [
    {
     "name": "stdout",
     "output_type": "stream",
     "text": [
      "[32, 16, 8] {'32': {'SCALES': (32, 16), 'BASE_SIZE': 16, 'RATIOS': (1.0,), 'ALLOWED_BORDER': 9999}, '16': {'SCALES': (8, 4), 'BASE_SIZE': 16, 'RATIOS': (1.0,), 'ALLOWED_BORDER': 9999}, '8': {'SCALES': (2, 1), 'BASE_SIZE': 16, 'RATIOS': (1.0,), 'ALLOWED_BORDER': 9999}}\n",
      "use_landmarks True\n"
     ]
    }
   ],
   "source": [
    "ctx_id = -1\n",
    "model.prepare(ctx_id = ctx_id, nms=0.4)"
   ]
  },
  {
   "cell_type": "code",
   "execution_count": 91,
   "metadata": {},
   "outputs": [
    {
     "name": "stdout",
     "output_type": "stream",
     "text": [
      "Face [0]:\n",
      "\tage:34\n",
      "\tgender:Female\n",
      "\tembedding shape:512\n",
      "\tbbox:[1422  290 1667  626]\n",
      "\tlandmark:[1471  431 1584  416 1524  482 1485  534 1600  521]\n",
      "\n",
      "Face [1]:\n",
      "\tage:47\n",
      "\tgender:Male\n",
      "\tembedding shape:512\n",
      "\tbbox:[1128  -36 1327  244]\n",
      "\tlandmark:[1167   75 1258   73 1203  125 1172  168 1258  166]\n",
      "\n",
      "Face [2]:\n",
      "\tage:25\n",
      "\tgender:Female\n",
      "\tembedding shape:512\n",
      "\tbbox:[191 143 487 476]\n",
      "\tlandmark:[314 250 422 309 347 329 258 352 360 403]\n",
      "\n",
      "Face [3]:\n",
      "\tage:54\n",
      "\tgender:Female\n",
      "\tembedding shape:512\n",
      "\tbbox:[423 356 646 661]\n",
      "\tlandmark:[480 480 583 457 544 515 506 585 601 564]\n",
      "\n",
      "Face [4]:\n",
      "\tage:32\n",
      "\tgender:Female\n",
      "\tembedding shape:512\n",
      "\tbbox:[669  75 853 343]\n",
      "\tlandmark:[705 180 788 186 732 238 698 263 786 268]\n",
      "\n",
      "Face [5]:\n",
      "\tage:40\n",
      "\tgender:Female\n",
      "\tembedding shape:512\n",
      "\tbbox:[626 416 880 784]\n",
      "\tlandmark:[694 567 814 561 758 649 691 675 821 670]\n",
      "\n",
      "Face [6]:\n",
      "\tage:42\n",
      "\tgender:Male\n",
      "\tembedding shape:512\n",
      "\tbbox:[1501   87 1705  321]\n",
      "\tlandmark:[1534  182 1627  174 1568  206 1551  263 1624  256]\n",
      "\n",
      "Face [7]:\n",
      "\tage:59\n",
      "\tgender:Male\n",
      "\tembedding shape:512\n",
      "\tbbox:[ 907  116 1050  306]\n",
      "\tlandmark:[929 180 993 187 943 217 927 252 981 258]\n",
      "\n",
      "Face [8]:\n",
      "\tage:45\n",
      "\tgender:Male\n",
      "\tembedding shape:512\n",
      "\tbbox:[ 966  433 1333  936]\n",
      "\tlandmark:[1041  640 1211  631 1114  727 1053  795 1226  788]\n",
      "\n",
      "Face [9]:\n",
      "\tage:32\n",
      "\tgender:Male\n",
      "\tembedding shape:512\n",
      "\tbbox:[1320  133 1469  303]\n",
      "\tlandmark:[1355  194 1424  191 1388  214 1362  254 1421  251]\n",
      "\n",
      "Face [10]:\n",
      "\tage:32\n",
      "\tgender:Male\n",
      "\tembedding shape:512\n",
      "\tbbox:[464 100 628 318]\n",
      "\tlandmark:[523 174 593 187 559 216 514 249 577 261]\n",
      "\n",
      "Face [11]:\n",
      "\tage:28\n",
      "\tgender:Male\n",
      "\tembedding shape:512\n",
      "\tbbox:[-117  155  148  456]\n",
      "\tlandmark:[-19 248  65 295  -8 317 -62 353   4 393]\n",
      "\n",
      "6.118998050689697\n"
     ]
    }
   ],
   "source": [
    "import time\n",
    "start = time.time()\n",
    "emb_list = []\n",
    "\n",
    "img_out = img.copy()\n",
    "\n",
    "faces = model.get(img)\n",
    "for idx, face in enumerate(faces):\n",
    "    print(\"Face [%d]:\"%idx)\n",
    "    print(\"\\tage:%d\"%(face.age))\n",
    "    gender = 'Male'\n",
    "    if face.gender==0:\n",
    "        gender = 'Female'\n",
    "    print(\"\\tgender:%s\"%(gender))\n",
    "    print(\"\\tembedding shape:%s\"%face.embedding.shape)\n",
    "    emb_list.append(np.expand_dims(face.embedding, axis=0))\n",
    "    bboxes = face.bbox.astype(np.int)\n",
    "    print(\"\\tbbox:%s\"%(bboxes.flatten()))\n",
    "    img_out = cv2.rectangle(img_out, (bboxes[0], bboxes[1]), (bboxes[2], bboxes[3]), (0, 255, 0), 2)\n",
    "    print(\"\\tlandmark:%s\"%(face.landmark.astype(np.int).flatten()))\n",
    "    print(\"\")\n",
    "    img_out = cv2.putText(img_out, str(face.age), (int(bboxes[0]-10), int(bboxes[1]-10)), cv2.FONT_HERSHEY_SIMPLEX, 1.1, (0, 255, 0),2)\n",
    "    img_out = cv2.putText(img_out, str(gender), (int(bboxes[0]+40), int(bboxes[1]-10)), cv2.FONT_HERSHEY_SIMPLEX, 1.1, (0, 0, 255),2)\n",
    "    img_out = cv2.putText(img_out, str(idx), (int(bboxes[0]-40), int(bboxes[1]-10)), cv2.FONT_HERSHEY_SIMPLEX, 1.1, (0, 0, 255),2)\n",
    "    img_out = cv2.putText(img_out, str(round(distncs[0][idx], 2)), (int(bboxes[0]+40), int(bboxes[1]+100)), cv2.FONT_HERSHEY_SIMPLEX, 1.1, (255, 0, 0),2)\n",
    "cv2.imwrite('out.jpg',img_out)\n",
    "end = time.time()\n",
    "print(end - start)"
   ]
  },
  {
   "cell_type": "code",
   "execution_count": null,
   "metadata": {},
   "outputs": [],
   "source": []
  },
  {
   "cell_type": "code",
   "execution_count": 78,
   "metadata": {},
   "outputs": [
    {
     "name": "stdout",
     "output_type": "stream",
     "text": [
      "Face [0]:\n",
      "\tage:50\n",
      "0.9739913940429688\n"
     ]
    }
   ],
   "source": [
    "start = time.time()\n",
    "img = cv2.imread('bradley.jpg')\n",
    "faces = model.get(img)\n",
    "for idx, face in enumerate(faces):\n",
    "    print(\"Face [%d]:\"%idx)\n",
    "    print(\"\\tage:%d\"%(face.age))\n",
    "    bradley_emb = np.expand_dims(face.embedding, axis=0)\n",
    "end = time.time()\n",
    "print(end - start)"
   ]
  },
  {
   "cell_type": "code",
   "execution_count": 101,
   "metadata": {},
   "outputs": [],
   "source": [
    "distncs = distance.cdist(bradley_emb, np.array(emb_list*10000).squeeze(), 'cosine')"
   ]
  },
  {
   "cell_type": "code",
   "execution_count": 72,
   "metadata": {},
   "outputs": [
    {
     "data": {
      "text/plain": [
       "(1, 128)"
      ]
     },
     "execution_count": 72,
     "metadata": {},
     "output_type": "execute_result"
    }
   ],
   "source": [
    "np.expand_dims(np.array(emb_list).squeeze(),0)"
   ]
  },
  {
   "cell_type": "code",
   "execution_count": 96,
   "metadata": {},
   "outputs": [
    {
     "data": {
      "text/plain": [
       "(120000, 512)"
      ]
     },
     "execution_count": 96,
     "metadata": {},
     "output_type": "execute_result"
    }
   ],
   "source": [
    "np.array(emb_list*10000).squeeze().shape"
   ]
  },
  {
   "cell_type": "code",
   "execution_count": null,
   "metadata": {},
   "outputs": [],
   "source": []
  },
  {
   "cell_type": "code",
   "execution_count": null,
   "metadata": {},
   "outputs": [],
   "source": []
  }
 ],
 "metadata": {
  "kernelspec": {
   "display_name": "Python 3",
   "language": "python",
   "name": "python3"
  },
  "language_info": {
   "codemirror_mode": {
    "name": "ipython",
    "version": 3
   },
   "file_extension": ".py",
   "mimetype": "text/x-python",
   "name": "python",
   "nbconvert_exporter": "python",
   "pygments_lexer": "ipython3",
   "version": "3.7.7"
  }
 },
 "nbformat": 4,
 "nbformat_minor": 4
}
